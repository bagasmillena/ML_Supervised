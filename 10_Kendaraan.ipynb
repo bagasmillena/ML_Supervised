{
  "nbformat": 4,
  "nbformat_minor": 0,
  "metadata": {
    "colab": {
      "name": "10_Kendaraan",
      "provenance": [],
      "collapsed_sections": [
        "wz077U2b6Q0Y",
        "XsaoFw8v8Epm",
        "hhvrx7fU9bKo",
        "CwKxaEJR9kzS",
        "WZJy-Jzq9qJQ",
        "ZiDV0d929w81",
        "ruNF1mKy93RB",
        "U6OmKH8v96tq",
        "mEqksbV7-CXJ",
        "P4YdO0Mo-HDa",
        "U0mmqRBL-KzM"
      ]
    },
    "kernelspec": {
      "name": "python3",
      "display_name": "Python 3"
    },
    "language_info": {
      "name": "python"
    }
  },
  "cells": [
    {
      "cell_type": "markdown",
      "metadata": {
        "id": "YkbIe8_VGchI"
      },
      "source": [
        "# Tugas Besar 2\n",
        "Nama : Arya Pratama A R\n",
        "\n",
        "NIM : 1301184336\n",
        "\n",
        "NAMA : Bagas Millen A\n",
        "\n",
        "NIM :1301180184\n",
        "\n",
        "# IF 42 12\n",
        "\n",
        "---\n",
        "\n",
        "\n",
        "\n",
        "## Data Kendaraan"
      ]
    },
    {
      "cell_type": "markdown",
      "metadata": {
        "id": "O0BU8EgP7DrQ"
      },
      "source": [
        "# Load Data"
      ]
    },
    {
      "cell_type": "code",
      "metadata": {
        "id": "k48o2eKIsmrg"
      },
      "source": [
        "import pandas as pd\n",
        "import seaborn as sns\n",
        "import matplotlib.pyplot as plt\n",
        "import numpy as np\n",
        "from sklearn.preprocessing import StandardScaler\n",
        "import random\n"
      ],
      "execution_count": 1,
      "outputs": []
    },
    {
      "cell_type": "code",
      "metadata": {
        "colab": {
          "base_uri": "https://localhost:8080/"
        },
        "id": "NGqKNQvCf_hS",
        "outputId": "60d6650d-89ad-4097-fbb8-ee9afe8e299d"
      },
      "source": [
        "from google.colab import drive\n",
        "drive.mount('/content/drive')"
      ],
      "execution_count": 2,
      "outputs": [
        {
          "output_type": "stream",
          "text": [
            "Mounted at /content/drive\n"
          ],
          "name": "stdout"
        }
      ]
    },
    {
      "cell_type": "code",
      "metadata": {
        "id": "ytULYD_zsuB-"
      },
      "source": [
        "df_train = pd.read_csv('/content/drive/MyDrive/dataset/kendaraan_train.csv')\n",
        "df_test = pd.read_csv('/content/drive/MyDrive/dataset/kendaraan_test.csv')\n",
        "\n",
        "df = df_train"
      ],
      "execution_count": 3,
      "outputs": []
    },
    {
      "cell_type": "code",
      "metadata": {
        "id": "NVLxJ2atvW_v"
      },
      "source": [
        "#df1 = pd.read_csv('/content/drive/MyDrive/Colab Notebooks/kendaraan_test.csv')\n",
        "#df2 = pd.read_csv('/content/drive/MyDrive/Colab Notebooks/kendaraan_train.csv')\n",
        "\n",
        "#df = df_train"
      ],
      "execution_count": 4,
      "outputs": []
    },
    {
      "cell_type": "code",
      "metadata": {
        "id": "_9IJHFWqwxFY",
        "colab": {
          "base_uri": "https://localhost:8080/",
          "height": 195
        },
        "outputId": "a32854de-db1a-4115-a50a-0d51c72b1f77"
      },
      "source": [
        "# drop kolom id, karena id hanya ada di data test saja\n",
        "df.drop(\"id\", axis=1, inplace=True)\n",
        "df.head()"
      ],
      "execution_count": 5,
      "outputs": [
        {
          "output_type": "execute_result",
          "data": {
            "text/html": [
              "<div>\n",
              "<style scoped>\n",
              "    .dataframe tbody tr th:only-of-type {\n",
              "        vertical-align: middle;\n",
              "    }\n",
              "\n",
              "    .dataframe tbody tr th {\n",
              "        vertical-align: top;\n",
              "    }\n",
              "\n",
              "    .dataframe thead th {\n",
              "        text-align: right;\n",
              "    }\n",
              "</style>\n",
              "<table border=\"1\" class=\"dataframe\">\n",
              "  <thead>\n",
              "    <tr style=\"text-align: right;\">\n",
              "      <th></th>\n",
              "      <th>Jenis_Kelamin</th>\n",
              "      <th>Umur</th>\n",
              "      <th>SIM</th>\n",
              "      <th>Kode_Daerah</th>\n",
              "      <th>Sudah_Asuransi</th>\n",
              "      <th>Umur_Kendaraan</th>\n",
              "      <th>Kendaraan_Rusak</th>\n",
              "      <th>Premi</th>\n",
              "      <th>Kanal_Penjualan</th>\n",
              "      <th>Lama_Berlangganan</th>\n",
              "      <th>Tertarik</th>\n",
              "    </tr>\n",
              "  </thead>\n",
              "  <tbody>\n",
              "    <tr>\n",
              "      <th>0</th>\n",
              "      <td>Wanita</td>\n",
              "      <td>30.0</td>\n",
              "      <td>1.0</td>\n",
              "      <td>33.0</td>\n",
              "      <td>1.0</td>\n",
              "      <td>&lt; 1 Tahun</td>\n",
              "      <td>Tidak</td>\n",
              "      <td>28029.0</td>\n",
              "      <td>152.0</td>\n",
              "      <td>97.0</td>\n",
              "      <td>0</td>\n",
              "    </tr>\n",
              "    <tr>\n",
              "      <th>1</th>\n",
              "      <td>Pria</td>\n",
              "      <td>48.0</td>\n",
              "      <td>1.0</td>\n",
              "      <td>39.0</td>\n",
              "      <td>0.0</td>\n",
              "      <td>&gt; 2 Tahun</td>\n",
              "      <td>Pernah</td>\n",
              "      <td>25800.0</td>\n",
              "      <td>29.0</td>\n",
              "      <td>158.0</td>\n",
              "      <td>0</td>\n",
              "    </tr>\n",
              "    <tr>\n",
              "      <th>2</th>\n",
              "      <td>NaN</td>\n",
              "      <td>21.0</td>\n",
              "      <td>1.0</td>\n",
              "      <td>46.0</td>\n",
              "      <td>1.0</td>\n",
              "      <td>&lt; 1 Tahun</td>\n",
              "      <td>Tidak</td>\n",
              "      <td>32733.0</td>\n",
              "      <td>160.0</td>\n",
              "      <td>119.0</td>\n",
              "      <td>0</td>\n",
              "    </tr>\n",
              "    <tr>\n",
              "      <th>3</th>\n",
              "      <td>Wanita</td>\n",
              "      <td>58.0</td>\n",
              "      <td>1.0</td>\n",
              "      <td>48.0</td>\n",
              "      <td>0.0</td>\n",
              "      <td>1-2 Tahun</td>\n",
              "      <td>Tidak</td>\n",
              "      <td>2630.0</td>\n",
              "      <td>124.0</td>\n",
              "      <td>63.0</td>\n",
              "      <td>0</td>\n",
              "    </tr>\n",
              "    <tr>\n",
              "      <th>4</th>\n",
              "      <td>Pria</td>\n",
              "      <td>50.0</td>\n",
              "      <td>1.0</td>\n",
              "      <td>35.0</td>\n",
              "      <td>0.0</td>\n",
              "      <td>&gt; 2 Tahun</td>\n",
              "      <td>NaN</td>\n",
              "      <td>34857.0</td>\n",
              "      <td>88.0</td>\n",
              "      <td>194.0</td>\n",
              "      <td>0</td>\n",
              "    </tr>\n",
              "  </tbody>\n",
              "</table>\n",
              "</div>"
            ],
            "text/plain": [
              "  Jenis_Kelamin  Umur  SIM  ...  Kanal_Penjualan  Lama_Berlangganan Tertarik\n",
              "0        Wanita  30.0  1.0  ...            152.0               97.0        0\n",
              "1          Pria  48.0  1.0  ...             29.0              158.0        0\n",
              "2           NaN  21.0  1.0  ...            160.0              119.0        0\n",
              "3        Wanita  58.0  1.0  ...            124.0               63.0        0\n",
              "4          Pria  50.0  1.0  ...             88.0              194.0        0\n",
              "\n",
              "[5 rows x 11 columns]"
            ]
          },
          "metadata": {
            "tags": []
          },
          "execution_count": 5
        }
      ]
    },
    {
      "cell_type": "code",
      "metadata": {
        "id": "itBVGqG5gafp",
        "colab": {
          "base_uri": "https://localhost:8080/"
        },
        "outputId": "def74c6f-2e1a-4925-aad4-fcce003d763b"
      },
      "source": [
        "df.shape"
      ],
      "execution_count": 6,
      "outputs": [
        {
          "output_type": "execute_result",
          "data": {
            "text/plain": [
              "(285831, 11)"
            ]
          },
          "metadata": {
            "tags": []
          },
          "execution_count": 6
        }
      ]
    },
    {
      "cell_type": "markdown",
      "metadata": {
        "id": "wz077U2b6Q0Y"
      },
      "source": [
        "# Data Exploration"
      ]
    },
    {
      "cell_type": "code",
      "metadata": {
        "id": "KhnG80gs6JdR",
        "colab": {
          "base_uri": "https://localhost:8080/"
        },
        "outputId": "ec9a5215-c295-472e-97d6-63a05a7ad98a"
      },
      "source": [
        "# cek missing value\n",
        "df.isnull().sum()"
      ],
      "execution_count": 7,
      "outputs": [
        {
          "output_type": "execute_result",
          "data": {
            "text/plain": [
              "Jenis_Kelamin        14440\n",
              "Umur                 14214\n",
              "SIM                  14404\n",
              "Kode_Daerah          14306\n",
              "Sudah_Asuransi       14229\n",
              "Umur_Kendaraan       14275\n",
              "Kendaraan_Rusak      14188\n",
              "Premi                14569\n",
              "Kanal_Penjualan      14299\n",
              "Lama_Berlangganan    13992\n",
              "Tertarik                 0\n",
              "dtype: int64"
            ]
          },
          "metadata": {
            "tags": []
          },
          "execution_count": 7
        }
      ]
    },
    {
      "cell_type": "markdown",
      "metadata": {
        "id": "XsaoFw8v8Epm"
      },
      "source": [
        "## Cek Kolom Jenis Kelamin\n",
        "\n"
      ]
    },
    {
      "cell_type": "code",
      "metadata": {
        "id": "4x1K0_iv7pFW",
        "colab": {
          "base_uri": "https://localhost:8080/"
        },
        "outputId": "a83fb369-4e07-473d-c55a-6bcf0acd1cdc"
      },
      "source": [
        "df['Jenis_Kelamin'].value_counts()"
      ],
      "execution_count": 8,
      "outputs": [
        {
          "output_type": "execute_result",
          "data": {
            "text/plain": [
              "Pria      146678\n",
              "Wanita    124713\n",
              "Name: Jenis_Kelamin, dtype: int64"
            ]
          },
          "metadata": {
            "tags": []
          },
          "execution_count": 8
        }
      ]
    },
    {
      "cell_type": "code",
      "metadata": {
        "id": "obzNjSh0-DwU",
        "colab": {
          "base_uri": "https://localhost:8080/",
          "height": 0
        },
        "outputId": "7962f3ac-43b5-4ddb-dfe6-7cbd6ca48391"
      },
      "source": [
        "df['Jenis_Kelamin'].value_counts().plot(kind='bar')"
      ],
      "execution_count": 9,
      "outputs": [
        {
          "output_type": "execute_result",
          "data": {
            "text/plain": [
              "<matplotlib.axes._subplots.AxesSubplot at 0x7fac5fc7a290>"
            ]
          },
          "metadata": {
            "tags": []
          },
          "execution_count": 9
        },
        {
          "output_type": "display_data",
          "data": {
            "image/png": "[encoded data removed]",
            "text/plain": [
              "<Figure size 432x288 with 1 Axes>"
            ]
          },
          "metadata": {
            "tags": [],
            "needs_background": "light"
          }
        }
      ]
    },
    {
      "cell_type": "markdown",
      "metadata": {
        "id": "hhvrx7fU9bKo"
      },
      "source": [
        "## Cek Kolom Umur"
      ]
    },
    {
      "cell_type": "code",
      "metadata": {
        "id": "9RtiZh1MkSsb",
        "colab": {
          "base_uri": "https://localhost:8080/"
        },
        "outputId": "ac61c895-7e8f-426e-8685-33fb1428b73f"
      },
      "source": [
        "df['Umur'].value_counts()"
      ],
      "execution_count": 10,
      "outputs": [
        {
          "output_type": "execute_result",
          "data": {
            "text/plain": [
              "24.0    18443\n",
              "23.0    17403\n",
              "22.0    14975\n",
              "25.0    14634\n",
              "21.0    11652\n",
              "        ...  \n",
              "81.0       42\n",
              "82.0       20\n",
              "83.0       16\n",
              "84.0        9\n",
              "85.0        8\n",
              "Name: Umur, Length: 66, dtype: int64"
            ]
          },
          "metadata": {
            "tags": []
          },
          "execution_count": 10
        }
      ]
    },
    {
      "cell_type": "code",
      "metadata": {
        "id": "iEDEtpEm-hmG",
        "colab": {
          "base_uri": "https://localhost:8080/",
          "height": 0
        },
        "outputId": "5c0d7aa6-b405-4f39-ea51-6b50ab3a900d"
      },
      "source": [
        "plt.figure(figsize=(7, 5))\n",
        "sns.histplot(df['Umur'])"
      ],
      "execution_count": 11,
      "outputs": [
        {
          "output_type": "execute_result",
          "data": {
            "text/plain": [
              "<matplotlib.axes._subplots.AxesSubplot at 0x7fac5fbd7a90>"
            ]
          },
          "metadata": {
            "tags": []
          },
          "execution_count": 11
        },
        {
          "output_type": "display_data",
          "data": {
            "image/png": "[encoded data removed]",
            "text/plain": [
              "<Figure size 504x360 with 1 Axes>"
            ]
          },
          "metadata": {
            "tags": [],
            "needs_background": "light"
          }
        }
      ]
    },
    {
      "cell_type": "code",
      "metadata": {
        "id": "KF4ZUWzHnMqF",
        "colab": {
          "base_uri": "https://localhost:8080/",
          "height": 0
        },
        "outputId": "b127cf21-4e6e-4d80-a234-17c276c3e439"
      },
      "source": [
        "plt.figure(figsize=(4, 7))\n",
        "sns.boxplot(y = df['Umur'])"
      ],
      "execution_count": 12,
      "outputs": [
        {
          "output_type": "execute_result",
          "data": {
            "text/plain": [
              "<matplotlib.axes._subplots.AxesSubplot at 0x7fac5f738b90>"
            ]
          },
          "metadata": {
            "tags": []
          },
          "execution_count": 12
        },
        {
          "output_type": "display_data",
          "data": {
            "image/png": "[encoded data removed]",
            "text/plain": [
              "<Figure size 288x504 with 1 Axes>"
            ]
          },
          "metadata": {
            "tags": [],
            "needs_background": "light"
          }
        }
      ]
    },
    {
      "cell_type": "markdown",
      "metadata": {
        "id": "CwKxaEJR9kzS"
      },
      "source": [
        "## Cek Kolom SIM"
      ]
    },
    {
      "cell_type": "code",
      "metadata": {
        "id": "rjRk2G4hk4lY",
        "colab": {
          "base_uri": "https://localhost:8080/"
        },
        "outputId": "02808d61-62d7-4f3a-c246-044206da43d6"
      },
      "source": [
        "df['SIM'].value_counts()"
      ],
      "execution_count": 13,
      "outputs": [
        {
          "output_type": "execute_result",
          "data": {
            "text/plain": [
              "1.0    270843\n",
              "0.0       584\n",
              "Name: SIM, dtype: int64"
            ]
          },
          "metadata": {
            "tags": []
          },
          "execution_count": 13
        }
      ]
    },
    {
      "cell_type": "code",
      "metadata": {
        "id": "IGQ_27VUzd1l",
        "colab": {
          "base_uri": "https://localhost:8080/",
          "height": 0
        },
        "outputId": "5dcadbb4-6983-452a-d1a0-a698258da22b"
      },
      "source": [
        "df['SIM'].value_counts().plot(kind='bar')"
      ],
      "execution_count": 14,
      "outputs": [
        {
          "output_type": "execute_result",
          "data": {
            "text/plain": [
              "<matplotlib.axes._subplots.AxesSubplot at 0x7fac5f353a10>"
            ]
          },
          "metadata": {
            "tags": []
          },
          "execution_count": 14
        },
        {
          "output_type": "display_data",
          "data": {
            "image/png": "[encoded data removed]",
            "text/plain": [
              "<Figure size 432x288 with 1 Axes>"
            ]
          },
          "metadata": {
            "tags": [],
            "needs_background": "light"
          }
        }
      ]
    },
    {
      "cell_type": "markdown",
      "metadata": {
        "id": "WZJy-Jzq9qJQ"
      },
      "source": [
        "## Cek Kolom Kode Daerah"
      ]
    },
    {
      "cell_type": "code",
      "metadata": {
        "id": "t-IQs6omzq5w",
        "colab": {
          "base_uri": "https://localhost:8080/"
        },
        "outputId": "7de53543-5acf-4666-a908-7353b7fd6999"
      },
      "source": [
        "df['Kode_Daerah'].value_counts()"
      ],
      "execution_count": 15,
      "outputs": [
        {
          "output_type": "execute_result",
          "data": {
            "text/plain": [
              "28.0    75439\n",
              "8.0     24186\n",
              "46.0    14157\n",
              "41.0    12931\n",
              "15.0     9500\n",
              "30.0     8630\n",
              "29.0     7931\n",
              "50.0     7349\n",
              "3.0      6594\n",
              "11.0     6548\n",
              "36.0     6285\n",
              "33.0     5459\n",
              "47.0     5371\n",
              "35.0     4963\n",
              "6.0      4489\n",
              "45.0     4009\n",
              "37.0     3917\n",
              "18.0     3662\n",
              "48.0     3386\n",
              "39.0     3384\n",
              "14.0     3310\n",
              "10.0     3049\n",
              "21.0     3019\n",
              "2.0      2961\n",
              "13.0     2875\n",
              "7.0      2323\n",
              "12.0     2281\n",
              "9.0      2213\n",
              "27.0     2023\n",
              "32.0     2012\n",
              "43.0     1902\n",
              "17.0     1866\n",
              "26.0     1852\n",
              "25.0     1786\n",
              "24.0     1738\n",
              "38.0     1448\n",
              "0.0      1444\n",
              "16.0     1436\n",
              "31.0     1412\n",
              "20.0     1394\n",
              "23.0     1369\n",
              "49.0     1305\n",
              "4.0      1301\n",
              "34.0     1188\n",
              "19.0     1055\n",
              "40.0      934\n",
              "22.0      932\n",
              "5.0       900\n",
              "1.0       707\n",
              "44.0      564\n",
              "42.0      420\n",
              "52.0      189\n",
              "51.0      127\n",
              "Name: Kode_Daerah, dtype: int64"
            ]
          },
          "metadata": {
            "tags": []
          },
          "execution_count": 15
        }
      ]
    },
    {
      "cell_type": "code",
      "metadata": {
        "id": "IP01Pwnaz7gt",
        "colab": {
          "base_uri": "https://localhost:8080/",
          "height": 0
        },
        "outputId": "6c68c782-b9b6-41a0-ce36-0211887e600f"
      },
      "source": [
        "sns.histplot(df['Kode_Daerah'])"
      ],
      "execution_count": 16,
      "outputs": [
        {
          "output_type": "execute_result",
          "data": {
            "text/plain": [
              "<matplotlib.axes._subplots.AxesSubplot at 0x7fac5f2c2990>"
            ]
          },
          "metadata": {
            "tags": []
          },
          "execution_count": 16
        },
        {
          "output_type": "display_data",
          "data": {
            "image/png": "[encoded data removed]",
            "text/plain": [
              "<Figure size 432x288 with 1 Axes>"
            ]
          },
          "metadata": {
            "tags": [],
            "needs_background": "light"
          }
        }
      ]
    },
    {
      "cell_type": "code",
      "metadata": {
        "id": "CBlLL6UAnaTr",
        "colab": {
          "base_uri": "https://localhost:8080/",
          "height": 0
        },
        "outputId": "0bad759a-72a9-4003-a9b9-81b57d457e93"
      },
      "source": [
        "plt.figure(figsize=(4, 7))\n",
        "sns.boxplot(y = df['Kode_Daerah'])"
      ],
      "execution_count": 17,
      "outputs": [
        {
          "output_type": "execute_result",
          "data": {
            "text/plain": [
              "<matplotlib.axes._subplots.AxesSubplot at 0x7fac5f2bb690>"
            ]
          },
          "metadata": {
            "tags": []
          },
          "execution_count": 17
        },
        {
          "output_type": "display_data",
          "data": {
            "image/png": "[encoded data removed]",
            "text/plain": [
              "<Figure size 288x504 with 1 Axes>"
            ]
          },
          "metadata": {
            "tags": [],
            "needs_background": "light"
          }
        }
      ]
    },
    {
      "cell_type": "markdown",
      "metadata": {
        "id": "ZiDV0d929w81"
      },
      "source": [
        "## Cek Kolom Sudah Asuransi"
      ]
    },
    {
      "cell_type": "code",
      "metadata": {
        "id": "ZcXCthLB2FGy",
        "colab": {
          "base_uri": "https://localhost:8080/"
        },
        "outputId": "321bdaed-3661-4404-e983-4d115b18abe9"
      },
      "source": [
        "df['Sudah_Asuransi'].value_counts()"
      ],
      "execution_count": 18,
      "outputs": [
        {
          "output_type": "execute_result",
          "data": {
            "text/plain": [
              "0.0    146997\n",
              "1.0    124605\n",
              "Name: Sudah_Asuransi, dtype: int64"
            ]
          },
          "metadata": {
            "tags": []
          },
          "execution_count": 18
        }
      ]
    },
    {
      "cell_type": "code",
      "metadata": {
        "id": "xntjeNwU2Kl_",
        "colab": {
          "base_uri": "https://localhost:8080/",
          "height": 0
        },
        "outputId": "cae642fa-3266-418a-9e8b-c18a4b71b8c2"
      },
      "source": [
        "df['Sudah_Asuransi'].value_counts().plot(kind='bar')"
      ],
      "execution_count": 19,
      "outputs": [
        {
          "output_type": "execute_result",
          "data": {
            "text/plain": [
              "<matplotlib.axes._subplots.AxesSubplot at 0x7fac5f0dae10>"
            ]
          },
          "metadata": {
            "tags": []
          },
          "execution_count": 19
        },
        {
          "output_type": "display_data",
          "data": {
            "image/png": "[encoded data removed]",
            "text/plain": [
              "<Figure size 432x288 with 1 Axes>"
            ]
          },
          "metadata": {
            "tags": [],
            "needs_background": "light"
          }
        }
      ]
    },
    {
      "cell_type": "markdown",
      "metadata": {
        "id": "ruNF1mKy93RB"
      },
      "source": [
        "## Cek Kolom Umur Kendaraan"
      ]
    },
    {
      "cell_type": "code",
      "metadata": {
        "id": "i5h2vXMz2QkY",
        "colab": {
          "base_uri": "https://localhost:8080/"
        },
        "outputId": "a3a6190f-2ee4-4dc7-fcea-f5fec0f24b85"
      },
      "source": [
        "df['Umur_Kendaraan'].value_counts()"
      ],
      "execution_count": 20,
      "outputs": [
        {
          "output_type": "execute_result",
          "data": {
            "text/plain": [
              "1-2 Tahun    142761\n",
              "< 1 Tahun    117378\n",
              "> 2 Tahun     11417\n",
              "Name: Umur_Kendaraan, dtype: int64"
            ]
          },
          "metadata": {
            "tags": []
          },
          "execution_count": 20
        }
      ]
    },
    {
      "cell_type": "code",
      "metadata": {
        "id": "Jadygi4d2nuP",
        "colab": {
          "base_uri": "https://localhost:8080/",
          "height": 0
        },
        "outputId": "4a691180-81f6-439b-eae0-5eb54a73dd78"
      },
      "source": [
        "df['Umur_Kendaraan'].value_counts().plot(kind='bar')"
      ],
      "execution_count": 21,
      "outputs": [
        {
          "output_type": "execute_result",
          "data": {
            "text/plain": [
              "<matplotlib.axes._subplots.AxesSubplot at 0x7fac5f0bb490>"
            ]
          },
          "metadata": {
            "tags": []
          },
          "execution_count": 21
        },
        {
          "output_type": "display_data",
          "data": {
            "image/png": "[encoded data removed]",
            "text/plain": [
              "<Figure size 432x288 with 1 Axes>"
            ]
          },
          "metadata": {
            "tags": [],
            "needs_background": "light"
          }
        }
      ]
    },
    {
      "cell_type": "markdown",
      "metadata": {
        "id": "U6OmKH8v96tq"
      },
      "source": [
        "## Cek Kolom Kendaraan Rusak"
      ]
    },
    {
      "cell_type": "code",
      "metadata": {
        "id": "bMrc3Fsw2uxi",
        "colab": {
          "base_uri": "https://localhost:8080/"
        },
        "outputId": "104cf05f-f40c-4e2b-fc51-6f0733f1daaa"
      },
      "source": [
        "df['Kendaraan_Rusak'].value_counts()"
      ],
      "execution_count": 22,
      "outputs": [
        {
          "output_type": "execute_result",
          "data": {
            "text/plain": [
              "Pernah    137123\n",
              "Tidak     134520\n",
              "Name: Kendaraan_Rusak, dtype: int64"
            ]
          },
          "metadata": {
            "tags": []
          },
          "execution_count": 22
        }
      ]
    },
    {
      "cell_type": "code",
      "metadata": {
        "id": "jnUbaRrv3f8g",
        "colab": {
          "base_uri": "https://localhost:8080/",
          "height": 0
        },
        "outputId": "9fb62afc-5ef4-43c9-90d9-955e14f27119"
      },
      "source": [
        "df['Kendaraan_Rusak'].value_counts().plot(kind='bar')"
      ],
      "execution_count": 23,
      "outputs": [
        {
          "output_type": "execute_result",
          "data": {
            "text/plain": [
              "<matplotlib.axes._subplots.AxesSubplot at 0x7fac5f03ed50>"
            ]
          },
          "metadata": {
            "tags": []
          },
          "execution_count": 23
        },
        {
          "output_type": "display_data",
          "data": {
            "image/png": "[encoded data removed]",
            "text/plain": [
              "<Figure size 432x288 with 1 Axes>"
            ]
          },
          "metadata": {
            "tags": [],
            "needs_background": "light"
          }
        }
      ]
    },
    {
      "cell_type": "markdown",
      "metadata": {
        "id": "mEqksbV7-CXJ"
      },
      "source": [
        "## Cek Kolom Premi"
      ]
    },
    {
      "cell_type": "code",
      "metadata": {
        "id": "fO3PqN3g3iB2",
        "colab": {
          "base_uri": "https://localhost:8080/"
        },
        "outputId": "b00ffa51-d491-4b08-a198-f23e59c88652"
      },
      "source": [
        "df['Premi'].value_counts()"
      ],
      "execution_count": 24,
      "outputs": [
        {
          "output_type": "execute_result",
          "data": {
            "text/plain": [
              "2630.0     46272\n",
              "69856.0       98\n",
              "38287.0       29\n",
              "45179.0       28\n",
              "30117.0       28\n",
              "           ...  \n",
              "76473.0        1\n",
              "47889.0        1\n",
              "59991.0        1\n",
              "86426.0        1\n",
              "69430.0        1\n",
              "Name: Premi, Length: 45114, dtype: int64"
            ]
          },
          "metadata": {
            "tags": []
          },
          "execution_count": 24
        }
      ]
    },
    {
      "cell_type": "code",
      "metadata": {
        "id": "B1Th7Dh96ma8",
        "colab": {
          "base_uri": "https://localhost:8080/",
          "height": 0
        },
        "outputId": "2baf0b72-973a-48f8-97f3-b9d09ff10ab4"
      },
      "source": [
        "plt.figure(figsize=(5, 5))\n",
        "sns.histplot(df['Premi'],kde=False)"
      ],
      "execution_count": 25,
      "outputs": [
        {
          "output_type": "execute_result",
          "data": {
            "text/plain": [
              "<matplotlib.axes._subplots.AxesSubplot at 0x7fac5f045750>"
            ]
          },
          "metadata": {
            "tags": []
          },
          "execution_count": 25
        },
        {
          "output_type": "display_data",
          "data": {
            "image/png": "[encoded data removed]",
            "text/plain": [
              "<Figure size 360x360 with 1 Axes>"
            ]
          },
          "metadata": {
            "tags": [],
            "needs_background": "light"
          }
        }
      ]
    },
    {
      "cell_type": "code",
      "metadata": {
        "id": "fPcTD3o-K9Fi",
        "colab": {
          "base_uri": "https://localhost:8080/",
          "height": 0
        },
        "outputId": "efd074fa-30c7-46ea-e6c9-ff959b207b3f"
      },
      "source": [
        "plt.figure(figsize=(4, 7))\n",
        "sns.boxplot(y = df['Premi'])"
      ],
      "execution_count": 26,
      "outputs": [
        {
          "output_type": "execute_result",
          "data": {
            "text/plain": [
              "<matplotlib.axes._subplots.AxesSubplot at 0x7fac5ef1fcd0>"
            ]
          },
          "metadata": {
            "tags": []
          },
          "execution_count": 26
        },
        {
          "output_type": "display_data",
          "data": {
            "image/png": "[encoded data removed]",
            "text/plain": [
              "<Figure size 288x504 with 1 Axes>"
            ]
          },
          "metadata": {
            "tags": [],
            "needs_background": "light"
          }
        }
      ]
    },
    {
      "cell_type": "markdown",
      "metadata": {
        "id": "P4YdO0Mo-HDa"
      },
      "source": [
        "## Cek Kolom Kanal Penjualan"
      ]
    },
    {
      "cell_type": "code",
      "metadata": {
        "id": "vxftk2i27gHX",
        "colab": {
          "base_uri": "https://localhost:8080/"
        },
        "outputId": "90bdc5df-35f3-41af-87ce-1fa85d6eca40"
      },
      "source": [
        "df['Kanal_Penjualan'].value_counts()"
      ],
      "execution_count": 27,
      "outputs": [
        {
          "output_type": "execute_result",
          "data": {
            "text/plain": [
              "152.0    96090\n",
              "26.0     56816\n",
              "124.0    52756\n",
              "160.0    15436\n",
              "156.0     7542\n",
              "         ...  \n",
              "70.0         1\n",
              "79.0         1\n",
              "144.0        1\n",
              "33.0         1\n",
              "84.0         1\n",
              "Name: Kanal_Penjualan, Length: 151, dtype: int64"
            ]
          },
          "metadata": {
            "tags": []
          },
          "execution_count": 27
        }
      ]
    },
    {
      "cell_type": "code",
      "metadata": {
        "id": "DXyJiAEB7oWB",
        "colab": {
          "base_uri": "https://localhost:8080/",
          "height": 0
        },
        "outputId": "5a9542dc-67eb-4365-8b5f-edceeae38666"
      },
      "source": [
        "plt.figure(figsize=(7, 5))\n",
        "sns.histplot(df['Kanal_Penjualan'],kde=False)"
      ],
      "execution_count": 28,
      "outputs": [
        {
          "output_type": "execute_result",
          "data": {
            "text/plain": [
              "<matplotlib.axes._subplots.AxesSubplot at 0x7fac5e06a150>"
            ]
          },
          "metadata": {
            "tags": []
          },
          "execution_count": 28
        },
        {
          "output_type": "display_data",
          "data": {
            "image/png": "[encoded data removed]",
            "text/plain": [
              "<Figure size 504x360 with 1 Axes>"
            ]
          },
          "metadata": {
            "tags": [],
            "needs_background": "light"
          }
        }
      ]
    },
    {
      "cell_type": "code",
      "metadata": {
        "id": "L454q-HRoGLA",
        "colab": {
          "base_uri": "https://localhost:8080/",
          "height": 0
        },
        "outputId": "30c08078-d9a3-4400-d3f5-4eef5e4552cf"
      },
      "source": [
        "plt.figure(figsize=(4, 7))\n",
        "sns.boxplot(y = df['Kanal_Penjualan'])"
      ],
      "execution_count": 29,
      "outputs": [
        {
          "output_type": "execute_result",
          "data": {
            "text/plain": [
              "<matplotlib.axes._subplots.AxesSubplot at 0x7fac5e06ac10>"
            ]
          },
          "metadata": {
            "tags": []
          },
          "execution_count": 29
        },
        {
          "output_type": "display_data",
          "data": {
            "image/png": "[encoded data removed]",
            "text/plain": [
              "<Figure size 288x504 with 1 Axes>"
            ]
          },
          "metadata": {
            "tags": [],
            "needs_background": "light"
          }
        }
      ]
    },
    {
      "cell_type": "markdown",
      "metadata": {
        "id": "U0mmqRBL-KzM"
      },
      "source": [
        "## Cek Kolom Lama Berlangganan"
      ]
    },
    {
      "cell_type": "code",
      "metadata": {
        "id": "gWN5p0Q8-rwv",
        "colab": {
          "base_uri": "https://localhost:8080/"
        },
        "outputId": "0760d38e-84b4-4da1-c457-599a26d64b56"
      },
      "source": [
        "df['Lama_Berlangganan'].value_counts()"
      ],
      "execution_count": 30,
      "outputs": [
        {
          "output_type": "execute_result",
          "data": {
            "text/plain": [
              "158.0    1028\n",
              "126.0    1021\n",
              "73.0     1021\n",
              "263.0    1013\n",
              "256.0    1011\n",
              "         ... \n",
              "93.0      873\n",
              "295.0     872\n",
              "264.0     871\n",
              "205.0     859\n",
              "32.0      838\n",
              "Name: Lama_Berlangganan, Length: 290, dtype: int64"
            ]
          },
          "metadata": {
            "tags": []
          },
          "execution_count": 30
        }
      ]
    },
    {
      "cell_type": "code",
      "metadata": {
        "id": "38pM_uc9-yMH",
        "colab": {
          "base_uri": "https://localhost:8080/",
          "height": 0
        },
        "outputId": "a76b9366-0d7f-46f5-86c5-0f3ad67e275e"
      },
      "source": [
        "plt.figure(figsize=(7, 5))\n",
        "sns.histplot(df['Lama_Berlangganan'])"
      ],
      "execution_count": 31,
      "outputs": [
        {
          "output_type": "execute_result",
          "data": {
            "text/plain": [
              "<matplotlib.axes._subplots.AxesSubplot at 0x7fac5e8a6c50>"
            ]
          },
          "metadata": {
            "tags": []
          },
          "execution_count": 31
        },
        {
          "output_type": "display_data",
          "data": {
            "image/png": "[encoded data removed]",
            "text/plain": [
              "<Figure size 504x360 with 1 Axes>"
            ]
          },
          "metadata": {
            "tags": [],
            "needs_background": "light"
          }
        }
      ]
    },
    {
      "cell_type": "markdown",
      "metadata": {
        "id": "f-LHpcHCoXMR"
      },
      "source": [
        "# Data Cleansing"
      ]
    },
    {
      "cell_type": "code",
      "metadata": {
        "id": "rabNkRTaohOM",
        "colab": {
          "base_uri": "https://localhost:8080/"
        },
        "outputId": "5dc40c12-1ac0-4d9d-bc6e-8944f6060c11"
      },
      "source": [
        "# Dealing with Missing Value\n",
        "\n",
        "# mengisi missing value dengan mean/rata-rata\n",
        "df['Umur'].fillna(df['Umur'].mean(), inplace=True)\n",
        "df['SIM'].fillna(df['SIM'].mean(), inplace=True)\n",
        "df['Kode_Daerah'].fillna(df['Kode_Daerah'].mean(), inplace=True)\n",
        "df['Sudah_Asuransi'].fillna(df['Sudah_Asuransi'].mean(), inplace=True)\n",
        "df['Premi'].fillna(df['Premi'].mean(), inplace=True)\n",
        "df['Kanal_Penjualan'].fillna(df['Kanal_Penjualan'].mean(), inplace=True)\n",
        "df['Lama_Berlangganan'].fillna(df['Lama_Berlangganan'].mean(), inplace=True)\n",
        "\n",
        "# mengisi missing value dengan modus (untuk data variable category)\n",
        "df['Jenis_Kelamin'].fillna(df['Jenis_Kelamin'].mode()[0], inplace=True)\n",
        "df['Umur_Kendaraan'].fillna(df['Umur_Kendaraan'].mode()[0], inplace=True)\n",
        "df['Kendaraan_Rusak'].fillna(df['Kendaraan_Rusak'].mode()[0], inplace=True)\n",
        "\n",
        "df.isnull().sum()\n"
      ],
      "execution_count": 32,
      "outputs": [
        {
          "output_type": "execute_result",
          "data": {
            "text/plain": [
              "Jenis_Kelamin        0\n",
              "Umur                 0\n",
              "SIM                  0\n",
              "Kode_Daerah          0\n",
              "Sudah_Asuransi       0\n",
              "Umur_Kendaraan       0\n",
              "Kendaraan_Rusak      0\n",
              "Premi                0\n",
              "Kanal_Penjualan      0\n",
              "Lama_Berlangganan    0\n",
              "Tertarik             0\n",
              "dtype: int64"
            ]
          },
          "metadata": {
            "tags": []
          },
          "execution_count": 32
        }
      ]
    },
    {
      "cell_type": "markdown",
      "metadata": {
        "id": "sn6IJUbi-PO-"
      },
      "source": [
        "## Heatmap"
      ]
    },
    {
      "cell_type": "code",
      "metadata": {
        "id": "TDzJeRadIFLV",
        "colab": {
          "base_uri": "https://localhost:8080/",
          "height": 597
        },
        "outputId": "8bec3088-656c-409e-f24b-3053431baded"
      },
      "source": [
        "plt.figure(figsize=(8, 8))\n",
        "sns.heatmap(df.corr(), vmax=1, annot=True)"
      ],
      "execution_count": 33,
      "outputs": [
        {
          "output_type": "execute_result",
          "data": {
            "text/plain": [
              "<matplotlib.axes._subplots.AxesSubplot at 0x7fac5ea95050>"
            ]
          },
          "metadata": {
            "tags": []
          },
          "execution_count": 33
        },
        {
          "output_type": "display_data",
          "data": {
            "image/png": "[encoded data removed]",
            "text/plain": [
              "<Figure size 576x576 with 2 Axes>"
            ]
          },
          "metadata": {
            "tags": [],
            "needs_background": "light"
          }
        }
      ]
    },
    {
      "cell_type": "markdown",
      "metadata": {
        "id": "mQO2zX3DTXPZ"
      },
      "source": [
        "Berdasarkan Heatmap, Fitur 'Tertarik' memiliki korelasi yang besar dengan Fitur 'Umur' dan Fitur 'Premi'. Jadi model clustering yang dipilih adalah Fitur 'Umur' dan 'Premi'"
      ]
    },
    {
      "cell_type": "code",
      "metadata": {
        "id": "apCiZmfzVIx2",
        "colab": {
          "base_uri": "https://localhost:8080/",
          "height": 402
        },
        "outputId": "7f328f63-bb98-4120-dfc4-27fa17f1c503"
      },
      "source": [
        "# memilih Fitur untuk modeling\n",
        "\n",
        "df_train_new = pd.DataFrame ({\n",
        "    'Umur' : df['Umur'],\n",
        "    'Premi' : df['Premi'],\n",
        "    'Tertarik' : df['Tertarik']\n",
        "})\n",
        "\n",
        "df_test_new = pd.DataFrame ({\n",
        "    'Umur' : df_test['Umur'],\n",
        "    'Premi' : df_test['Premi'],\n",
        "    'Tertarik' : df_test['Tertarik']\n",
        "})\n",
        "\n",
        "\n",
        "df_train_new"
      ],
      "execution_count": 34,
      "outputs": [
        {
          "output_type": "execute_result",
          "data": {
            "text/html": [
              "<div>\n",
              "<style scoped>\n",
              "    .dataframe tbody tr th:only-of-type {\n",
              "        vertical-align: middle;\n",
              "    }\n",
              "\n",
              "    .dataframe tbody tr th {\n",
              "        vertical-align: top;\n",
              "    }\n",
              "\n",
              "    .dataframe thead th {\n",
              "        text-align: right;\n",
              "    }\n",
              "</style>\n",
              "<table border=\"1\" class=\"dataframe\">\n",
              "  <thead>\n",
              "    <tr style=\"text-align: right;\">\n",
              "      <th></th>\n",
              "      <th>Umur</th>\n",
              "      <th>Premi</th>\n",
              "      <th>Tertarik</th>\n",
              "    </tr>\n",
              "  </thead>\n",
              "  <tbody>\n",
              "    <tr>\n",
              "      <th>0</th>\n",
              "      <td>30.0</td>\n",
              "      <td>28029.0</td>\n",
              "      <td>0</td>\n",
              "    </tr>\n",
              "    <tr>\n",
              "      <th>1</th>\n",
              "      <td>48.0</td>\n",
              "      <td>25800.0</td>\n",
              "      <td>0</td>\n",
              "    </tr>\n",
              "    <tr>\n",
              "      <th>2</th>\n",
              "      <td>21.0</td>\n",
              "      <td>32733.0</td>\n",
              "      <td>0</td>\n",
              "    </tr>\n",
              "    <tr>\n",
              "      <th>3</th>\n",
              "      <td>58.0</td>\n",
              "      <td>2630.0</td>\n",
              "      <td>0</td>\n",
              "    </tr>\n",
              "    <tr>\n",
              "      <th>4</th>\n",
              "      <td>50.0</td>\n",
              "      <td>34857.0</td>\n",
              "      <td>0</td>\n",
              "    </tr>\n",
              "    <tr>\n",
              "      <th>...</th>\n",
              "      <td>...</td>\n",
              "      <td>...</td>\n",
              "      <td>...</td>\n",
              "    </tr>\n",
              "    <tr>\n",
              "      <th>285826</th>\n",
              "      <td>23.0</td>\n",
              "      <td>25988.0</td>\n",
              "      <td>0</td>\n",
              "    </tr>\n",
              "    <tr>\n",
              "      <th>285827</th>\n",
              "      <td>21.0</td>\n",
              "      <td>44686.0</td>\n",
              "      <td>0</td>\n",
              "    </tr>\n",
              "    <tr>\n",
              "      <th>285828</th>\n",
              "      <td>23.0</td>\n",
              "      <td>49751.0</td>\n",
              "      <td>0</td>\n",
              "    </tr>\n",
              "    <tr>\n",
              "      <th>285829</th>\n",
              "      <td>68.0</td>\n",
              "      <td>30503.0</td>\n",
              "      <td>0</td>\n",
              "    </tr>\n",
              "    <tr>\n",
              "      <th>285830</th>\n",
              "      <td>45.0</td>\n",
              "      <td>36480.0</td>\n",
              "      <td>0</td>\n",
              "    </tr>\n",
              "  </tbody>\n",
              "</table>\n",
              "<p>285831 rows × 3 columns</p>\n",
              "</div>"
            ],
            "text/plain": [
              "        Umur    Premi  Tertarik\n",
              "0       30.0  28029.0         0\n",
              "1       48.0  25800.0         0\n",
              "2       21.0  32733.0         0\n",
              "3       58.0   2630.0         0\n",
              "4       50.0  34857.0         0\n",
              "...      ...      ...       ...\n",
              "285826  23.0  25988.0         0\n",
              "285827  21.0  44686.0         0\n",
              "285828  23.0  49751.0         0\n",
              "285829  68.0  30503.0         0\n",
              "285830  45.0  36480.0         0\n",
              "\n",
              "[285831 rows x 3 columns]"
            ]
          },
          "metadata": {
            "tags": []
          },
          "execution_count": 34
        }
      ]
    },
    {
      "cell_type": "code",
      "metadata": {
        "colab": {
          "base_uri": "https://localhost:8080/",
          "height": 402
        },
        "id": "2ODVItUTin9N",
        "outputId": "833e08c1-e841-4b0d-e65d-526194be74b8"
      },
      "source": [
        "df_test_new"
      ],
      "execution_count": 35,
      "outputs": [
        {
          "output_type": "execute_result",
          "data": {
            "text/html": [
              "<div>\n",
              "<style scoped>\n",
              "    .dataframe tbody tr th:only-of-type {\n",
              "        vertical-align: middle;\n",
              "    }\n",
              "\n",
              "    .dataframe tbody tr th {\n",
              "        vertical-align: top;\n",
              "    }\n",
              "\n",
              "    .dataframe thead th {\n",
              "        text-align: right;\n",
              "    }\n",
              "</style>\n",
              "<table border=\"1\" class=\"dataframe\">\n",
              "  <thead>\n",
              "    <tr style=\"text-align: right;\">\n",
              "      <th></th>\n",
              "      <th>Umur</th>\n",
              "      <th>Premi</th>\n",
              "      <th>Tertarik</th>\n",
              "    </tr>\n",
              "  </thead>\n",
              "  <tbody>\n",
              "    <tr>\n",
              "      <th>0</th>\n",
              "      <td>49</td>\n",
              "      <td>46963</td>\n",
              "      <td>0</td>\n",
              "    </tr>\n",
              "    <tr>\n",
              "      <th>1</th>\n",
              "      <td>22</td>\n",
              "      <td>39624</td>\n",
              "      <td>0</td>\n",
              "    </tr>\n",
              "    <tr>\n",
              "      <th>2</th>\n",
              "      <td>24</td>\n",
              "      <td>110479</td>\n",
              "      <td>0</td>\n",
              "    </tr>\n",
              "    <tr>\n",
              "      <th>3</th>\n",
              "      <td>46</td>\n",
              "      <td>36266</td>\n",
              "      <td>0</td>\n",
              "    </tr>\n",
              "    <tr>\n",
              "      <th>4</th>\n",
              "      <td>35</td>\n",
              "      <td>26963</td>\n",
              "      <td>0</td>\n",
              "    </tr>\n",
              "    <tr>\n",
              "      <th>...</th>\n",
              "      <td>...</td>\n",
              "      <td>...</td>\n",
              "      <td>...</td>\n",
              "    </tr>\n",
              "    <tr>\n",
              "      <th>47634</th>\n",
              "      <td>61</td>\n",
              "      <td>31039</td>\n",
              "      <td>0</td>\n",
              "    </tr>\n",
              "    <tr>\n",
              "      <th>47635</th>\n",
              "      <td>41</td>\n",
              "      <td>2630</td>\n",
              "      <td>0</td>\n",
              "    </tr>\n",
              "    <tr>\n",
              "      <th>47636</th>\n",
              "      <td>24</td>\n",
              "      <td>33101</td>\n",
              "      <td>0</td>\n",
              "    </tr>\n",
              "    <tr>\n",
              "      <th>47637</th>\n",
              "      <td>59</td>\n",
              "      <td>37788</td>\n",
              "      <td>1</td>\n",
              "    </tr>\n",
              "    <tr>\n",
              "      <th>47638</th>\n",
              "      <td>52</td>\n",
              "      <td>2630</td>\n",
              "      <td>0</td>\n",
              "    </tr>\n",
              "  </tbody>\n",
              "</table>\n",
              "<p>47639 rows × 3 columns</p>\n",
              "</div>"
            ],
            "text/plain": [
              "       Umur   Premi  Tertarik\n",
              "0        49   46963         0\n",
              "1        22   39624         0\n",
              "2        24  110479         0\n",
              "3        46   36266         0\n",
              "4        35   26963         0\n",
              "...     ...     ...       ...\n",
              "47634    61   31039         0\n",
              "47635    41    2630         0\n",
              "47636    24   33101         0\n",
              "47637    59   37788         1\n",
              "47638    52    2630         0\n",
              "\n",
              "[47639 rows x 3 columns]"
            ]
          },
          "metadata": {
            "tags": []
          },
          "execution_count": 35
        }
      ]
    },
    {
      "cell_type": "markdown",
      "metadata": {
        "id": "zNx566AB7Azk"
      },
      "source": [
        "# Feature Engineering"
      ]
    },
    {
      "cell_type": "code",
      "metadata": {
        "id": "YbBkyECQxQOi",
        "colab": {
          "base_uri": "https://localhost:8080/",
          "height": 195
        },
        "outputId": "7471237d-c0a8-45b7-b28c-0d48912febfb"
      },
      "source": [
        "# mengubah kategori data menjadi numerik\n",
        "df.loc[df['Jenis_Kelamin'] == 'Pria', 'Jenis_Kelamin'] = 1\n",
        "df.loc[df['Jenis_Kelamin'] == 'Wanita', 'Jenis_Kelamin'] = 0\n",
        "\n",
        "df.loc[df['Umur_Kendaraan'] == '< 1 Tahun', 'Umur_Kendaraan'] = 0\n",
        "df.loc[df['Umur_Kendaraan'] == '1-2 Tahun', 'Umur_Kendaraan'] = 1\n",
        "df.loc[df['Umur_Kendaraan'] == '> 2 Tahun', 'Umur_Kendaraan'] = 2\n",
        "\n",
        "df.loc[df['Kendaraan_Rusak'] == 'Tidak', 'Kendaraan_Rusak'] = 0\n",
        "df.loc[df['Kendaraan_Rusak'] == 'Pernah', 'Kendaraan_Rusak'] = 1\n",
        "\n",
        "df.head()"
      ],
      "execution_count": 36,
      "outputs": [
        {
          "output_type": "execute_result",
          "data": {
            "text/html": [
              "<div>\n",
              "<style scoped>\n",
              "    .dataframe tbody tr th:only-of-type {\n",
              "        vertical-align: middle;\n",
              "    }\n",
              "\n",
              "    .dataframe tbody tr th {\n",
              "        vertical-align: top;\n",
              "    }\n",
              "\n",
              "    .dataframe thead th {\n",
              "        text-align: right;\n",
              "    }\n",
              "</style>\n",
              "<table border=\"1\" class=\"dataframe\">\n",
              "  <thead>\n",
              "    <tr style=\"text-align: right;\">\n",
              "      <th></th>\n",
              "      <th>Jenis_Kelamin</th>\n",
              "      <th>Umur</th>\n",
              "      <th>SIM</th>\n",
              "      <th>Kode_Daerah</th>\n",
              "      <th>Sudah_Asuransi</th>\n",
              "      <th>Umur_Kendaraan</th>\n",
              "      <th>Kendaraan_Rusak</th>\n",
              "      <th>Premi</th>\n",
              "      <th>Kanal_Penjualan</th>\n",
              "      <th>Lama_Berlangganan</th>\n",
              "      <th>Tertarik</th>\n",
              "    </tr>\n",
              "  </thead>\n",
              "  <tbody>\n",
              "    <tr>\n",
              "      <th>0</th>\n",
              "      <td>0</td>\n",
              "      <td>30.0</td>\n",
              "      <td>1.0</td>\n",
              "      <td>33.0</td>\n",
              "      <td>1.0</td>\n",
              "      <td>0</td>\n",
              "      <td>0</td>\n",
              "      <td>28029.0</td>\n",
              "      <td>152.0</td>\n",
              "      <td>97.0</td>\n",
              "      <td>0</td>\n",
              "    </tr>\n",
              "    <tr>\n",
              "      <th>1</th>\n",
              "      <td>1</td>\n",
              "      <td>48.0</td>\n",
              "      <td>1.0</td>\n",
              "      <td>39.0</td>\n",
              "      <td>0.0</td>\n",
              "      <td>2</td>\n",
              "      <td>1</td>\n",
              "      <td>25800.0</td>\n",
              "      <td>29.0</td>\n",
              "      <td>158.0</td>\n",
              "      <td>0</td>\n",
              "    </tr>\n",
              "    <tr>\n",
              "      <th>2</th>\n",
              "      <td>1</td>\n",
              "      <td>21.0</td>\n",
              "      <td>1.0</td>\n",
              "      <td>46.0</td>\n",
              "      <td>1.0</td>\n",
              "      <td>0</td>\n",
              "      <td>0</td>\n",
              "      <td>32733.0</td>\n",
              "      <td>160.0</td>\n",
              "      <td>119.0</td>\n",
              "      <td>0</td>\n",
              "    </tr>\n",
              "    <tr>\n",
              "      <th>3</th>\n",
              "      <td>0</td>\n",
              "      <td>58.0</td>\n",
              "      <td>1.0</td>\n",
              "      <td>48.0</td>\n",
              "      <td>0.0</td>\n",
              "      <td>1</td>\n",
              "      <td>0</td>\n",
              "      <td>2630.0</td>\n",
              "      <td>124.0</td>\n",
              "      <td>63.0</td>\n",
              "      <td>0</td>\n",
              "    </tr>\n",
              "    <tr>\n",
              "      <th>4</th>\n",
              "      <td>1</td>\n",
              "      <td>50.0</td>\n",
              "      <td>1.0</td>\n",
              "      <td>35.0</td>\n",
              "      <td>0.0</td>\n",
              "      <td>2</td>\n",
              "      <td>1</td>\n",
              "      <td>34857.0</td>\n",
              "      <td>88.0</td>\n",
              "      <td>194.0</td>\n",
              "      <td>0</td>\n",
              "    </tr>\n",
              "  </tbody>\n",
              "</table>\n",
              "</div>"
            ],
            "text/plain": [
              "  Jenis_Kelamin  Umur  SIM  ...  Kanal_Penjualan  Lama_Berlangganan Tertarik\n",
              "0             0  30.0  1.0  ...            152.0               97.0        0\n",
              "1             1  48.0  1.0  ...             29.0              158.0        0\n",
              "2             1  21.0  1.0  ...            160.0              119.0        0\n",
              "3             0  58.0  1.0  ...            124.0               63.0        0\n",
              "4             1  50.0  1.0  ...             88.0              194.0        0\n",
              "\n",
              "[5 rows x 11 columns]"
            ]
          },
          "metadata": {
            "tags": []
          },
          "execution_count": 36
        }
      ]
    },
    {
      "cell_type": "code",
      "metadata": {
        "colab": {
          "base_uri": "https://localhost:8080/",
          "height": 402
        },
        "id": "9_HDmLRUORoJ",
        "outputId": "6de3accc-f8c0-44ed-a51d-bd78df1f5178"
      },
      "source": [
        "df_train_new"
      ],
      "execution_count": 37,
      "outputs": [
        {
          "output_type": "execute_result",
          "data": {
            "text/html": [
              "<div>\n",
              "<style scoped>\n",
              "    .dataframe tbody tr th:only-of-type {\n",
              "        vertical-align: middle;\n",
              "    }\n",
              "\n",
              "    .dataframe tbody tr th {\n",
              "        vertical-align: top;\n",
              "    }\n",
              "\n",
              "    .dataframe thead th {\n",
              "        text-align: right;\n",
              "    }\n",
              "</style>\n",
              "<table border=\"1\" class=\"dataframe\">\n",
              "  <thead>\n",
              "    <tr style=\"text-align: right;\">\n",
              "      <th></th>\n",
              "      <th>Umur</th>\n",
              "      <th>Premi</th>\n",
              "      <th>Tertarik</th>\n",
              "    </tr>\n",
              "  </thead>\n",
              "  <tbody>\n",
              "    <tr>\n",
              "      <th>0</th>\n",
              "      <td>30.0</td>\n",
              "      <td>28029.0</td>\n",
              "      <td>0</td>\n",
              "    </tr>\n",
              "    <tr>\n",
              "      <th>1</th>\n",
              "      <td>48.0</td>\n",
              "      <td>25800.0</td>\n",
              "      <td>0</td>\n",
              "    </tr>\n",
              "    <tr>\n",
              "      <th>2</th>\n",
              "      <td>21.0</td>\n",
              "      <td>32733.0</td>\n",
              "      <td>0</td>\n",
              "    </tr>\n",
              "    <tr>\n",
              "      <th>3</th>\n",
              "      <td>58.0</td>\n",
              "      <td>2630.0</td>\n",
              "      <td>0</td>\n",
              "    </tr>\n",
              "    <tr>\n",
              "      <th>4</th>\n",
              "      <td>50.0</td>\n",
              "      <td>34857.0</td>\n",
              "      <td>0</td>\n",
              "    </tr>\n",
              "    <tr>\n",
              "      <th>...</th>\n",
              "      <td>...</td>\n",
              "      <td>...</td>\n",
              "      <td>...</td>\n",
              "    </tr>\n",
              "    <tr>\n",
              "      <th>285826</th>\n",
              "      <td>23.0</td>\n",
              "      <td>25988.0</td>\n",
              "      <td>0</td>\n",
              "    </tr>\n",
              "    <tr>\n",
              "      <th>285827</th>\n",
              "      <td>21.0</td>\n",
              "      <td>44686.0</td>\n",
              "      <td>0</td>\n",
              "    </tr>\n",
              "    <tr>\n",
              "      <th>285828</th>\n",
              "      <td>23.0</td>\n",
              "      <td>49751.0</td>\n",
              "      <td>0</td>\n",
              "    </tr>\n",
              "    <tr>\n",
              "      <th>285829</th>\n",
              "      <td>68.0</td>\n",
              "      <td>30503.0</td>\n",
              "      <td>0</td>\n",
              "    </tr>\n",
              "    <tr>\n",
              "      <th>285830</th>\n",
              "      <td>45.0</td>\n",
              "      <td>36480.0</td>\n",
              "      <td>0</td>\n",
              "    </tr>\n",
              "  </tbody>\n",
              "</table>\n",
              "<p>285831 rows × 3 columns</p>\n",
              "</div>"
            ],
            "text/plain": [
              "        Umur    Premi  Tertarik\n",
              "0       30.0  28029.0         0\n",
              "1       48.0  25800.0         0\n",
              "2       21.0  32733.0         0\n",
              "3       58.0   2630.0         0\n",
              "4       50.0  34857.0         0\n",
              "...      ...      ...       ...\n",
              "285826  23.0  25988.0         0\n",
              "285827  21.0  44686.0         0\n",
              "285828  23.0  49751.0         0\n",
              "285829  68.0  30503.0         0\n",
              "285830  45.0  36480.0         0\n",
              "\n",
              "[285831 rows x 3 columns]"
            ]
          },
          "metadata": {
            "tags": []
          },
          "execution_count": 37
        }
      ]
    },
    {
      "cell_type": "code",
      "metadata": {
        "id": "l_kxIzyOS9aR",
        "colab": {
          "base_uri": "https://localhost:8080/",
          "height": 402
        },
        "outputId": "b5a03606-cd32-4368-fa2b-f37d966e5803"
      },
      "source": [
        "# Dealing with outlier\n",
        "# Rescaling dengan Standarization (Z-score)\n",
        "\n",
        "df_train_new['Premi'] = (df_train_new['Premi'] - df_train_new['Premi'].mean()) / df_train_new['Premi'].std()\n",
        "premi_outlier = df_train_new['Premi'][(df_train_new['Premi'] < -1.08) | (df_train_new['Premi'] > 1.46)]\n",
        "#premi_outlier = df_train_new['Premi'][(df_train_new['Premi'] < -1.05) | (df_train_new['Premi'] > 1.45)]\n",
        "df_train_new.drop(premi_outlier.index, inplace=True)\n",
        "\n",
        "df_train_new['Umur'] = (df_train_new['Umur'] - df_train_new['Umur'].mean()) / df_train_new['Umur'].std()\n",
        "umur_outlier = df_train_new['Umur'][(df_train_new['Umur'] < -1.5) | (df_train_new['Umur'] > 3)]\n",
        "\n",
        "df_train_new.drop(umur_outlier.index, inplace=True)\n",
        "\n",
        "df_train_new.reset_index(inplace=True)\n",
        "df_train_new.drop(\"index\", axis=1, inplace=True)\n",
        "df_train_new"
      ],
      "execution_count": 38,
      "outputs": [
        {
          "output_type": "execute_result",
          "data": {
            "text/html": [
              "<div>\n",
              "<style scoped>\n",
              "    .dataframe tbody tr th:only-of-type {\n",
              "        vertical-align: middle;\n",
              "    }\n",
              "\n",
              "    .dataframe tbody tr th {\n",
              "        vertical-align: top;\n",
              "    }\n",
              "\n",
              "    .dataframe thead th {\n",
              "        text-align: right;\n",
              "    }\n",
              "</style>\n",
              "<table border=\"1\" class=\"dataframe\">\n",
              "  <thead>\n",
              "    <tr style=\"text-align: right;\">\n",
              "      <th></th>\n",
              "      <th>Umur</th>\n",
              "      <th>Premi</th>\n",
              "      <th>Tertarik</th>\n",
              "    </tr>\n",
              "  </thead>\n",
              "  <tbody>\n",
              "    <tr>\n",
              "      <th>0</th>\n",
              "      <td>-0.537307</td>\n",
              "      <td>-0.150052</td>\n",
              "      <td>0</td>\n",
              "    </tr>\n",
              "    <tr>\n",
              "      <th>1</th>\n",
              "      <td>0.658944</td>\n",
              "      <td>-0.283429</td>\n",
              "      <td>0</td>\n",
              "    </tr>\n",
              "    <tr>\n",
              "      <th>2</th>\n",
              "      <td>-1.135433</td>\n",
              "      <td>0.131421</td>\n",
              "      <td>0</td>\n",
              "    </tr>\n",
              "    <tr>\n",
              "      <th>3</th>\n",
              "      <td>0.791861</td>\n",
              "      <td>0.258515</td>\n",
              "      <td>0</td>\n",
              "    </tr>\n",
              "    <tr>\n",
              "      <th>4</th>\n",
              "      <td>-1.135433</td>\n",
              "      <td>-0.466829</td>\n",
              "      <td>0</td>\n",
              "    </tr>\n",
              "    <tr>\n",
              "      <th>...</th>\n",
              "      <td>...</td>\n",
              "      <td>...</td>\n",
              "      <td>...</td>\n",
              "    </tr>\n",
              "    <tr>\n",
              "      <th>225658</th>\n",
              "      <td>-1.002516</td>\n",
              "      <td>-0.272179</td>\n",
              "      <td>0</td>\n",
              "    </tr>\n",
              "    <tr>\n",
              "      <th>225659</th>\n",
              "      <td>-1.135433</td>\n",
              "      <td>0.846652</td>\n",
              "      <td>0</td>\n",
              "    </tr>\n",
              "    <tr>\n",
              "      <th>225660</th>\n",
              "      <td>-1.002516</td>\n",
              "      <td>1.149726</td>\n",
              "      <td>0</td>\n",
              "    </tr>\n",
              "    <tr>\n",
              "      <th>225661</th>\n",
              "      <td>1.988112</td>\n",
              "      <td>-0.002016</td>\n",
              "      <td>0</td>\n",
              "    </tr>\n",
              "    <tr>\n",
              "      <th>225662</th>\n",
              "      <td>0.459569</td>\n",
              "      <td>0.355630</td>\n",
              "      <td>0</td>\n",
              "    </tr>\n",
              "  </tbody>\n",
              "</table>\n",
              "<p>225663 rows × 3 columns</p>\n",
              "</div>"
            ],
            "text/plain": [
              "            Umur     Premi  Tertarik\n",
              "0      -0.537307 -0.150052         0\n",
              "1       0.658944 -0.283429         0\n",
              "2      -1.135433  0.131421         0\n",
              "3       0.791861  0.258515         0\n",
              "4      -1.135433 -0.466829         0\n",
              "...          ...       ...       ...\n",
              "225658 -1.002516 -0.272179         0\n",
              "225659 -1.135433  0.846652         0\n",
              "225660 -1.002516  1.149726         0\n",
              "225661  1.988112 -0.002016         0\n",
              "225662  0.459569  0.355630         0\n",
              "\n",
              "[225663 rows x 3 columns]"
            ]
          },
          "metadata": {
            "tags": []
          },
          "execution_count": 38
        }
      ]
    },
    {
      "cell_type": "code",
      "metadata": {
        "id": "1eXvqb8WTG75",
        "colab": {
          "base_uri": "https://localhost:8080/",
          "height": 433
        },
        "outputId": "a766b3bc-470d-4f49-d455-bf6431d320b8"
      },
      "source": [
        "plt.figure(figsize=(4, 7))\n",
        "sns.boxplot(y = df_train_new['Premi'])"
      ],
      "execution_count": 39,
      "outputs": [
        {
          "output_type": "execute_result",
          "data": {
            "text/plain": [
              "<matplotlib.axes._subplots.AxesSubplot at 0x7fac5df09b10>"
            ]
          },
          "metadata": {
            "tags": []
          },
          "execution_count": 39
        },
        {
          "output_type": "display_data",
          "data": {
            "image/png": "[encoded data removed]",
            "text/plain": [
              "<Figure size 288x504 with 1 Axes>"
            ]
          },
          "metadata": {
            "tags": [],
            "needs_background": "light"
          }
        }
      ]
    },
    {
      "cell_type": "code",
      "metadata": {
        "id": "GM1G62NJ7zlA",
        "colab": {
          "base_uri": "https://localhost:8080/",
          "height": 433
        },
        "outputId": "3e5b8396-0052-4fb5-adef-23d4eede5a3f"
      },
      "source": [
        "plt.figure(figsize=(4, 7))\n",
        "sns.boxplot(y = df_train_new['Umur'])"
      ],
      "execution_count": 40,
      "outputs": [
        {
          "output_type": "execute_result",
          "data": {
            "text/plain": [
              "<matplotlib.axes._subplots.AxesSubplot at 0x7fac5dd03690>"
            ]
          },
          "metadata": {
            "tags": []
          },
          "execution_count": 40
        },
        {
          "output_type": "display_data",
          "data": {
            "image/png": "[encoded data removed]",
            "text/plain": [
              "<Figure size 288x504 with 1 Axes>"
            ]
          },
          "metadata": {
            "tags": [],
            "needs_background": "light"
          }
        }
      ]
    },
    {
      "cell_type": "code",
      "metadata": {
        "id": "PPYgvAR-SlTm"
      },
      "source": [
        "# X = df.drop('Tertarik', axis=1)\n",
        "# y = df['Tertarik']"
      ],
      "execution_count": 41,
      "outputs": []
    },
    {
      "cell_type": "code",
      "metadata": {
        "id": "SVnrjowJfdNu"
      },
      "source": [
        "X_train = df_train_new.drop('Tertarik', axis=1)\n",
        "y_train = df_train_new['Tertarik']\n",
        "\n",
        "X_test = df_test_new.drop('Tertarik', axis=1)\n",
        "y_test = df_test_new['Tertarik']"
      ],
      "execution_count": 42,
      "outputs": []
    },
    {
      "cell_type": "code",
      "metadata": {
        "colab": {
          "base_uri": "https://localhost:8080/",
          "height": 402
        },
        "id": "57SrEn7rh08S",
        "outputId": "815e4c8d-f88a-4adc-d9c7-3f9d08ebbcc5"
      },
      "source": [
        "df_test_new"
      ],
      "execution_count": 43,
      "outputs": [
        {
          "output_type": "execute_result",
          "data": {
            "text/html": [
              "<div>\n",
              "<style scoped>\n",
              "    .dataframe tbody tr th:only-of-type {\n",
              "        vertical-align: middle;\n",
              "    }\n",
              "\n",
              "    .dataframe tbody tr th {\n",
              "        vertical-align: top;\n",
              "    }\n",
              "\n",
              "    .dataframe thead th {\n",
              "        text-align: right;\n",
              "    }\n",
              "</style>\n",
              "<table border=\"1\" class=\"dataframe\">\n",
              "  <thead>\n",
              "    <tr style=\"text-align: right;\">\n",
              "      <th></th>\n",
              "      <th>Umur</th>\n",
              "      <th>Premi</th>\n",
              "      <th>Tertarik</th>\n",
              "    </tr>\n",
              "  </thead>\n",
              "  <tbody>\n",
              "    <tr>\n",
              "      <th>0</th>\n",
              "      <td>49</td>\n",
              "      <td>46963</td>\n",
              "      <td>0</td>\n",
              "    </tr>\n",
              "    <tr>\n",
              "      <th>1</th>\n",
              "      <td>22</td>\n",
              "      <td>39624</td>\n",
              "      <td>0</td>\n",
              "    </tr>\n",
              "    <tr>\n",
              "      <th>2</th>\n",
              "      <td>24</td>\n",
              "      <td>110479</td>\n",
              "      <td>0</td>\n",
              "    </tr>\n",
              "    <tr>\n",
              "      <th>3</th>\n",
              "      <td>46</td>\n",
              "      <td>36266</td>\n",
              "      <td>0</td>\n",
              "    </tr>\n",
              "    <tr>\n",
              "      <th>4</th>\n",
              "      <td>35</td>\n",
              "      <td>26963</td>\n",
              "      <td>0</td>\n",
              "    </tr>\n",
              "    <tr>\n",
              "      <th>...</th>\n",
              "      <td>...</td>\n",
              "      <td>...</td>\n",
              "      <td>...</td>\n",
              "    </tr>\n",
              "    <tr>\n",
              "      <th>47634</th>\n",
              "      <td>61</td>\n",
              "      <td>31039</td>\n",
              "      <td>0</td>\n",
              "    </tr>\n",
              "    <tr>\n",
              "      <th>47635</th>\n",
              "      <td>41</td>\n",
              "      <td>2630</td>\n",
              "      <td>0</td>\n",
              "    </tr>\n",
              "    <tr>\n",
              "      <th>47636</th>\n",
              "      <td>24</td>\n",
              "      <td>33101</td>\n",
              "      <td>0</td>\n",
              "    </tr>\n",
              "    <tr>\n",
              "      <th>47637</th>\n",
              "      <td>59</td>\n",
              "      <td>37788</td>\n",
              "      <td>1</td>\n",
              "    </tr>\n",
              "    <tr>\n",
              "      <th>47638</th>\n",
              "      <td>52</td>\n",
              "      <td>2630</td>\n",
              "      <td>0</td>\n",
              "    </tr>\n",
              "  </tbody>\n",
              "</table>\n",
              "<p>47639 rows × 3 columns</p>\n",
              "</div>"
            ],
            "text/plain": [
              "       Umur   Premi  Tertarik\n",
              "0        49   46963         0\n",
              "1        22   39624         0\n",
              "2        24  110479         0\n",
              "3        46   36266         0\n",
              "4        35   26963         0\n",
              "...     ...     ...       ...\n",
              "47634    61   31039         0\n",
              "47635    41    2630         0\n",
              "47636    24   33101         0\n",
              "47637    59   37788         1\n",
              "47638    52    2630         0\n",
              "\n",
              "[47639 rows x 3 columns]"
            ]
          },
          "metadata": {
            "tags": []
          },
          "execution_count": 43
        }
      ]
    },
    {
      "cell_type": "code",
      "metadata": {
        "id": "reDHDs6LMdJo"
      },
      "source": [
        ""
      ],
      "execution_count": 43,
      "outputs": []
    },
    {
      "cell_type": "code",
      "metadata": {
        "id": "GQ3DCttjlrRU"
      },
      "source": [
        "#evaluation matriks\n",
        "def matriksaa(actual, predict):\n",
        "  TP = 0\n",
        "  FP = 0\n",
        "  TN = 0\n",
        "  FN = 0\n",
        "  for i in range(len(predict)):\n",
        "    if ((actual[i] == 1) and (predict[i] == 1)):\n",
        "      TP += 1\n",
        "    elif ((actual[i] == 0) and (predict[i] == 1)):\n",
        "      FP += 1\n",
        "    elif ((actual[i] == 0) and (predict[i] == 0)):\n",
        "      TN += 1\n",
        "    elif ((actual[i] == 1) and (predict[i] == 0)):\n",
        "      FN += 1\n",
        "  return TP, FP, TN, FN"
      ],
      "execution_count": 44,
      "outputs": []
    },
    {
      "cell_type": "markdown",
      "metadata": {
        "id": "inywzNQY2Q7H"
      },
      "source": [
        "# KNN"
      ]
    },
    {
      "cell_type": "code",
      "metadata": {
        "id": "SkxYtSpd2HMf"
      },
      "source": [
        "from sklearn.model_selection import train_test_split\n",
        "from sklearn.neighbors import KNeighborsClassifier\n",
        "from sklearn import metrics"
      ],
      "execution_count": 45,
      "outputs": []
    },
    {
      "cell_type": "code",
      "metadata": {
        "id": "goHdmSYd2sdp"
      },
      "source": [
        "#X_train, X_test, y_train, y_test = train_test_split(df_, y, test_size=0.25 , random_state=1)"
      ],
      "execution_count": 46,
      "outputs": []
    },
    {
      "cell_type": "code",
      "metadata": {
        "id": "LljzKbAJ2ioq",
        "colab": {
          "base_uri": "https://localhost:8080/"
        },
        "outputId": "e1214338-9390-44c6-a329-dd21f49a2313"
      },
      "source": [
        "KNN_model = KNeighborsClassifier()\n",
        "KNN_model.fit(X_train,y_train)"
      ],
      "execution_count": 47,
      "outputs": [
        {
          "output_type": "execute_result",
          "data": {
            "text/plain": [
              "KNeighborsClassifier(algorithm='auto', leaf_size=30, metric='minkowski',\n",
              "                     metric_params=None, n_jobs=None, n_neighbors=5, p=2,\n",
              "                     weights='uniform')"
            ]
          },
          "metadata": {
            "tags": []
          },
          "execution_count": 47
        }
      ]
    },
    {
      "cell_type": "code",
      "metadata": {
        "id": "1DuFlyHM2mmB",
        "colab": {
          "base_uri": "https://localhost:8080/"
        },
        "outputId": "998cdc36-a8a8-44e7-8951-0092511f525a"
      },
      "source": [
        "y_train_predict = KNN_model.predict(X_train)\n",
        "model_score = KNN_model.score(X_train, y_train)\n",
        "print(model_score)\n",
        "print(metrics.classification_report(y_train, y_train_predict))"
      ],
      "execution_count": 48,
      "outputs": [
        {
          "output_type": "stream",
          "text": [
            "0.8870439549239353\n",
            "              precision    recall  f1-score   support\n",
            "\n",
            "           0       0.90      0.99      0.94    198749\n",
            "           1       0.61      0.15      0.24     26914\n",
            "\n",
            "    accuracy                           0.89    225663\n",
            "   macro avg       0.75      0.57      0.59    225663\n",
            "weighted avg       0.86      0.89      0.86    225663\n",
            "\n"
          ],
          "name": "stdout"
        }
      ]
    },
    {
      "cell_type": "code",
      "metadata": {
        "id": "8QbMiT0ynUii",
        "colab": {
          "base_uri": "https://localhost:8080/"
        },
        "outputId": "a1fc81f2-c6a5-4672-9c40-cc2f037ce977"
      },
      "source": [
        "from sklearn.metrics import confusion_matrix\n",
        "matriks = confusion_matrix(y_train, y_train_predict)\n",
        "print('TP = ', matriks[1,1])\n",
        "print('TN = ', matriks[0,0])\n",
        "print('FP = ', matriks[0,1])\n",
        "print('FN = ', matriks[1,0])"
      ],
      "execution_count": 49,
      "outputs": [
        {
          "output_type": "stream",
          "text": [
            "TP =  3986\n",
            "TN =  196187\n",
            "FP =  2562\n",
            "FN =  22928\n"
          ],
          "name": "stdout"
        }
      ]
    },
    {
      "cell_type": "code",
      "metadata": {
        "id": "1jPv3jaK-zHA",
        "colab": {
          "base_uri": "https://localhost:8080/"
        },
        "outputId": "4d672067-2ede-4d5c-eb46-aeef5cd8fe66"
      },
      "source": [
        "from sklearn.metrics import precision_score as prec\n",
        "print(\"PRECISION \",prec(y_train,y_train_predict,average='macro') * 100)"
      ],
      "execution_count": 50,
      "outputs": [
        {
          "output_type": "stream",
          "text": [
            "PRECISION  75.20481876537526\n"
          ],
          "name": "stdout"
        }
      ]
    },
    {
      "cell_type": "code",
      "metadata": {
        "id": "iVZw8RMOpE_p",
        "colab": {
          "base_uri": "https://localhost:8080/"
        },
        "outputId": "bcdd9069-f319-471b-c4d4-12931d752374"
      },
      "source": [
        "from sklearn.metrics import confusion_matrix\n",
        "y_test_predict = KNN_model.predict(X_test)\n",
        "model_score = KNN_model.score(X_test, y_test)\n",
        "print(model_score)\n",
        "print(metrics.classification_report(y_test, y_test_predict))"
      ],
      "execution_count": 51,
      "outputs": [
        {
          "output_type": "stream",
          "text": [
            "0.8769705493398267\n",
            "              precision    recall  f1-score   support\n",
            "\n",
            "           0       0.88      1.00      0.93     41778\n",
            "           1       0.00      0.00      0.00      5861\n",
            "\n",
            "    accuracy                           0.88     47639\n",
            "   macro avg       0.44      0.50      0.47     47639\n",
            "weighted avg       0.77      0.88      0.82     47639\n",
            "\n"
          ],
          "name": "stdout"
        },
        {
          "output_type": "stream",
          "text": [
            "/usr/local/lib/python3.7/dist-packages/sklearn/metrics/_classification.py:1272: UndefinedMetricWarning: Precision and F-score are ill-defined and being set to 0.0 in labels with no predicted samples. Use `zero_division` parameter to control this behavior.\n",
            "  _warn_prf(average, modifier, msg_start, len(result))\n"
          ],
          "name": "stderr"
        }
      ]
    },
    {
      "cell_type": "code",
      "metadata": {
        "id": "5YD_iQMaxJ9a",
        "colab": {
          "base_uri": "https://localhost:8080/"
        },
        "outputId": "b5983ac1-38ca-4904-84d6-3a25e0d046f1"
      },
      "source": [
        "matriks = confusion_matrix(y_test, y_test_predict)\n",
        "print('TP = ', matriks[0,0])\n",
        "print('TN = ', matriks[1,1])\n",
        "print('FP = ', matriks[0,1])\n",
        "print('FN = ', matriks[1,0])"
      ],
      "execution_count": 52,
      "outputs": [
        {
          "output_type": "stream",
          "text": [
            "TP =  41778\n",
            "TN =  0\n",
            "FP =  0\n",
            "FN =  5861\n"
          ],
          "name": "stdout"
        }
      ]
    },
    {
      "cell_type": "markdown",
      "metadata": {
        "id": "L88wanJS4PTw"
      },
      "source": [
        "# NAIVE BAYES"
      ]
    },
    {
      "cell_type": "code",
      "metadata": {
        "id": "SIY3TL4x4fh7"
      },
      "source": [
        "from sklearn.naive_bayes import GaussianNB\n",
        "from sklearn import metrics"
      ],
      "execution_count": 53,
      "outputs": []
    },
    {
      "cell_type": "code",
      "metadata": {
        "id": "U7z-zREN4fiF",
        "colab": {
          "base_uri": "https://localhost:8080/"
        },
        "outputId": "9c28d886-dd3d-4f50-eb57-fa7cdae0c354"
      },
      "source": [
        "NB_model = GaussianNB()\n",
        "NB_model.fit(X_train, y_train)"
      ],
      "execution_count": 54,
      "outputs": [
        {
          "output_type": "execute_result",
          "data": {
            "text/plain": [
              "GaussianNB(priors=None, var_smoothing=1e-09)"
            ]
          },
          "metadata": {
            "tags": []
          },
          "execution_count": 54
        }
      ]
    },
    {
      "cell_type": "code",
      "metadata": {
        "id": "UvgPIMAf4fiG",
        "colab": {
          "base_uri": "https://localhost:8080/"
        },
        "outputId": "a523759c-43ff-4776-a593-ef1e4ab31fb2"
      },
      "source": [
        "y_train_predict = NB_model.predict(X_train)\n",
        "model_score = NB_model.score(X_train, y_train)\n",
        "print(model_score)\n",
        "print(metrics.classification_report(y_train, y_train_predict))"
      ],
      "execution_count": 55,
      "outputs": [
        {
          "output_type": "stream",
          "text": [
            "0.8807336603696663\n"
          ],
          "name": "stdout"
        },
        {
          "output_type": "stream",
          "text": [
            "/usr/local/lib/python3.7/dist-packages/sklearn/metrics/_classification.py:1272: UndefinedMetricWarning: Precision and F-score are ill-defined and being set to 0.0 in labels with no predicted samples. Use `zero_division` parameter to control this behavior.\n",
            "  _warn_prf(average, modifier, msg_start, len(result))\n"
          ],
          "name": "stderr"
        },
        {
          "output_type": "stream",
          "text": [
            "              precision    recall  f1-score   support\n",
            "\n",
            "           0       0.88      1.00      0.94    198749\n",
            "           1       0.00      0.00      0.00     26914\n",
            "\n",
            "    accuracy                           0.88    225663\n",
            "   macro avg       0.44      0.50      0.47    225663\n",
            "weighted avg       0.78      0.88      0.82    225663\n",
            "\n"
          ],
          "name": "stdout"
        }
      ]
    },
    {
      "cell_type": "code",
      "metadata": {
        "id": "vDq9EF2gx51x",
        "colab": {
          "base_uri": "https://localhost:8080/"
        },
        "outputId": "ff76fd82-76bb-4920-c9a9-9edad399e18d"
      },
      "source": [
        "matriks = confusion_matrix(y_train, y_train_predict)\n",
        "print('TP = ', matriks[0,0])\n",
        "print('TN = ', matriks[1,1])\n",
        "print('FP = ', matriks[0,1])\n",
        "print('FN = ', matriks[1,0])"
      ],
      "execution_count": 56,
      "outputs": [
        {
          "output_type": "stream",
          "text": [
            "TP =  198749\n",
            "TN =  0\n",
            "FP =  0\n",
            "FN =  26914\n"
          ],
          "name": "stdout"
        }
      ]
    },
    {
      "cell_type": "code",
      "metadata": {
        "id": "HkOJZWiIyBKp",
        "colab": {
          "base_uri": "https://localhost:8080/"
        },
        "outputId": "9815e602-4129-4394-abf2-0290bb1d8197"
      },
      "source": [
        "y_test_predict = NB_model.predict(X_test)\n",
        "model_score = NB_model.score(X_test, y_test)\n",
        "print(model_score)\n",
        "print(metrics.classification_report(y_test, y_test_predict))"
      ],
      "execution_count": 57,
      "outputs": [
        {
          "output_type": "stream",
          "text": [
            "0.12302945066017339\n",
            "              precision    recall  f1-score   support\n",
            "\n",
            "           0       0.00      0.00      0.00     41778\n",
            "           1       0.12      1.00      0.22      5861\n",
            "\n",
            "    accuracy                           0.12     47639\n",
            "   macro avg       0.06      0.50      0.11     47639\n",
            "weighted avg       0.02      0.12      0.03     47639\n",
            "\n"
          ],
          "name": "stdout"
        },
        {
          "output_type": "stream",
          "text": [
            "/usr/local/lib/python3.7/dist-packages/sklearn/metrics/_classification.py:1272: UndefinedMetricWarning: Precision and F-score are ill-defined and being set to 0.0 in labels with no predicted samples. Use `zero_division` parameter to control this behavior.\n",
            "  _warn_prf(average, modifier, msg_start, len(result))\n"
          ],
          "name": "stderr"
        }
      ]
    },
    {
      "cell_type": "code",
      "metadata": {
        "id": "2IBc2A2myVXj",
        "colab": {
          "base_uri": "https://localhost:8080/"
        },
        "outputId": "6ced41f9-7a9b-43b0-959c-aeb7e9673aba"
      },
      "source": [
        "matriks = confusion_matrix(y_test, y_test_predict)\n",
        "print('TP = ', matriks[0,0])\n",
        "print('TN = ', matriks[1,1])\n",
        "print('FP = ', matriks[0,1])\n",
        "print('FN = ', matriks[1,0])"
      ],
      "execution_count": 58,
      "outputs": [
        {
          "output_type": "stream",
          "text": [
            "TP =  0\n",
            "TN =  5861\n",
            "FP =  41778\n",
            "FN =  0\n"
          ],
          "name": "stdout"
        }
      ]
    },
    {
      "cell_type": "code",
      "metadata": {
        "id": "3CXzgAfn3tOH",
        "colab": {
          "base_uri": "https://localhost:8080/"
        },
        "outputId": "4178632a-a7dd-4879-a7fb-03c4ec6dcb64"
      },
      "source": [
        "precision_rf = (matriks[0,0])/(matriks[0,0]+matriks[0,1])\n",
        "print('Precision = ', precision_rf)"
      ],
      "execution_count": 59,
      "outputs": [
        {
          "output_type": "stream",
          "text": [
            "Precision =  0.0\n"
          ],
          "name": "stdout"
        }
      ]
    },
    {
      "cell_type": "markdown",
      "metadata": {
        "id": "unqhphxL5LPZ"
      },
      "source": [
        "# Random forest"
      ]
    },
    {
      "cell_type": "code",
      "metadata": {
        "id": "RMlOcvef5hct",
        "colab": {
          "base_uri": "https://localhost:8080/"
        },
        "outputId": "df6a47be-17ee-44c0-92d3-5713da9df2be"
      },
      "source": [
        "from sklearn.ensemble import RandomForestClassifier\n",
        "\n",
        "RF_model=RandomForestClassifier()\n",
        "RF_model.fit(X_train, y_train)"
      ],
      "execution_count": 60,
      "outputs": [
        {
          "output_type": "execute_result",
          "data": {
            "text/plain": [
              "RandomForestClassifier(bootstrap=True, ccp_alpha=0.0, class_weight=None,\n",
              "                       criterion='gini', max_depth=None, max_features='auto',\n",
              "                       max_leaf_nodes=None, max_samples=None,\n",
              "                       min_impurity_decrease=0.0, min_impurity_split=None,\n",
              "                       min_samples_leaf=1, min_samples_split=2,\n",
              "                       min_weight_fraction_leaf=0.0, n_estimators=100,\n",
              "                       n_jobs=None, oob_score=False, random_state=None,\n",
              "                       verbose=0, warm_start=False)"
            ]
          },
          "metadata": {
            "tags": []
          },
          "execution_count": 60
        }
      ]
    },
    {
      "cell_type": "code",
      "metadata": {
        "id": "8TqtYEZG5jdA",
        "colab": {
          "base_uri": "https://localhost:8080/"
        },
        "outputId": "aa8086cb-421a-4142-ff9b-09ab38c957c2"
      },
      "source": [
        "y_train_predict = RF_model.predict(X_train)\n",
        "model_score =RF_model.score(X_train, y_train)\n",
        "print(model_score)\n",
        "print(metrics.classification_report(y_train, y_train_predict))"
      ],
      "execution_count": 61,
      "outputs": [
        {
          "output_type": "stream",
          "text": [
            "0.9775638895166686\n",
            "              precision    recall  f1-score   support\n",
            "\n",
            "           0       0.98      1.00      0.99    198749\n",
            "           1       0.98      0.83      0.90     26914\n",
            "\n",
            "    accuracy                           0.98    225663\n",
            "   macro avg       0.98      0.91      0.94    225663\n",
            "weighted avg       0.98      0.98      0.98    225663\n",
            "\n"
          ],
          "name": "stdout"
        }
      ]
    },
    {
      "cell_type": "code",
      "metadata": {
        "id": "eJhYIckKyoc5",
        "colab": {
          "base_uri": "https://localhost:8080/"
        },
        "outputId": "a93dda53-c4f5-429c-e481-547252a23e08"
      },
      "source": [
        "matriks = confusion_matrix(y_train, y_train_predict)\n",
        "print('TP = ', matriks[0,0])\n",
        "print('TN = ', matriks[1,1])\n",
        "print('FP = ', matriks[0,1])\n",
        "print('FN = ', matriks[1,0])"
      ],
      "execution_count": 62,
      "outputs": [
        {
          "output_type": "stream",
          "text": [
            "TP =  198249\n",
            "TN =  22351\n",
            "FP =  500\n",
            "FN =  4563\n"
          ],
          "name": "stdout"
        }
      ]
    },
    {
      "cell_type": "code",
      "metadata": {
        "id": "WKYNpJK_53m1",
        "colab": {
          "base_uri": "https://localhost:8080/"
        },
        "outputId": "a456a0f4-3597-46f9-cb87-732e4351a56c"
      },
      "source": [
        "y_test_predict = RF_model.predict(X_test)\n",
        "model_scoreRF = RF_model.score(X_test, y_test)\n",
        "print(model_scoreRF)\n",
        "print(metrics.classification_report(y_test, y_test_predict))"
      ],
      "execution_count": 63,
      "outputs": [
        {
          "output_type": "stream",
          "text": [
            "0.8769705493398267\n",
            "              precision    recall  f1-score   support\n",
            "\n",
            "           0       0.88      1.00      0.93     41778\n",
            "           1       0.00      0.00      0.00      5861\n",
            "\n",
            "    accuracy                           0.88     47639\n",
            "   macro avg       0.44      0.50      0.47     47639\n",
            "weighted avg       0.77      0.88      0.82     47639\n",
            "\n"
          ],
          "name": "stdout"
        },
        {
          "output_type": "stream",
          "text": [
            "/usr/local/lib/python3.7/dist-packages/sklearn/metrics/_classification.py:1272: UndefinedMetricWarning: Precision and F-score are ill-defined and being set to 0.0 in labels with no predicted samples. Use `zero_division` parameter to control this behavior.\n",
            "  _warn_prf(average, modifier, msg_start, len(result))\n"
          ],
          "name": "stderr"
        }
      ]
    },
    {
      "cell_type": "code",
      "metadata": {
        "id": "rGNKGO0Dy6nX",
        "colab": {
          "base_uri": "https://localhost:8080/"
        },
        "outputId": "1c2e107e-5793-4ee9-9f6b-82f3580be20d"
      },
      "source": [
        "matriks = confusion_matrix(y_test, y_test_predict)\n",
        "print('TP = ', matriks[0,0])\n",
        "print('TN = ', matriks[1,1])\n",
        "print('FP = ', matriks[0,1])\n",
        "print('FN = ', matriks[1,0])"
      ],
      "execution_count": 64,
      "outputs": [
        {
          "output_type": "stream",
          "text": [
            "TP =  41778\n",
            "TN =  0\n",
            "FP =  0\n",
            "FN =  5861\n"
          ],
          "name": "stdout"
        }
      ]
    },
    {
      "cell_type": "code",
      "metadata": {
        "id": "xaSTHIYuzIIP"
      },
      "source": [
        ""
      ],
      "execution_count": 64,
      "outputs": []
    }
  ]
}